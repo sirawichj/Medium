{
  "nbformat": 4,
  "nbformat_minor": 0,
  "metadata": {
    "colab": {
      "name": "Cohort Analysis with Python : Understanding Your Customer Behavior (Medium)",
      "provenance": []
    },
    "kernelspec": {
      "name": "python3",
      "display_name": "Python 3"
    }
  },
  "cells": [
    {
      "cell_type": "markdown",
      "metadata": {
        "id": "HiuvNCic6tWq"
      },
      "source": [
        "# Cohort Analysis : \n",
        "- tracking user behaviors on the product.\n",
        "- The time period can be changed from month to week even day-basis.\n",
        "\n",
        "\n",
        "# https://medium.com/@henryfeng/know-users-behaviors-better-with-cohort-analysis-in-python-6c0dfc373963\n",
        "\n",
        "Methodology :\n",
        "- Data set exploration and cleaning\n",
        "- Create a cohort and conduct cohort analysis\n",
        "- Visualize the cohort analysis results\n",
        "\n",
        "#  “Online Retail Data Set” from the UCI Machine Learning Repository\n",
        "#  Transaction between 12/01/2010 and 12/09/2011 for UK-based online retail."
      ]
    },
    {
      "cell_type": "markdown",
      "metadata": {
        "id": "jpEwiDDU74gP"
      },
      "source": [
        "# Load necessary libraries"
      ]
    },
    {
      "cell_type": "markdown",
      "metadata": {
        "id": "RDHAVCV774F1"
      },
      "source": [
        ""
      ]
    },
    {
      "cell_type": "code",
      "metadata": {
        "id": "M_X7B3Jz7P0E"
      },
      "source": [
        "import pandas as pd\n",
        "import matplotlib.pyplot as plt\n",
        "import seaborn as sns\n",
        "import datetime as dt\n",
        "import numpy as np"
      ],
      "execution_count": 1,
      "outputs": []
    },
    {
      "cell_type": "markdown",
      "metadata": {
        "id": "tA3h4xLp8Pwa"
      },
      "source": [
        "# Load data\n"
      ]
    },
    {
      "cell_type": "code",
      "metadata": {
        "id": "OHvA2ERz8VFt",
        "outputId": "66c553a1-19af-41b9-8f46-36b42551d95b",
        "colab": {
          "base_uri": "https://localhost:8080/",
          "height": 34
        }
      },
      "source": [
        "from google.colab import drive\n",
        "# import only specific drive\n",
        "drive.mount('/gdrive')"
      ],
      "execution_count": 2,
      "outputs": [
        {
          "output_type": "stream",
          "text": [
            "Drive already mounted at /gdrive; to attempt to forcibly remount, call drive.mount(\"/gdrive\", force_remount=True).\n"
          ],
          "name": "stdout"
        }
      ]
    },
    {
      "cell_type": "code",
      "metadata": {
        "id": "jB5PNQwG8liz"
      },
      "source": [
        "# Read dataset\n",
        "df = pd.read_excel('/gdrive/My Drive/Colab Notebooks/Tutorial/Online Retail.xlsx')"
      ],
      "execution_count": 3,
      "outputs": []
    },
    {
      "cell_type": "markdown",
      "metadata": {
        "id": "ZItBNuflme8A"
      },
      "source": [
        "# Data cleaning\n"
      ]
    },
    {
      "cell_type": "code",
      "metadata": {
        "id": "G9xxo2SmmcRD",
        "outputId": "cfbe2a35-d74d-42e6-d63d-e5a850f05b65",
        "colab": {
          "base_uri": "https://localhost:8080/",
          "height": 204
        }
      },
      "source": [
        "# Check top 5 rows of data\n",
        "df.head(5)"
      ],
      "execution_count": 4,
      "outputs": [
        {
          "output_type": "execute_result",
          "data": {
            "text/html": [
              "<div>\n",
              "<style scoped>\n",
              "    .dataframe tbody tr th:only-of-type {\n",
              "        vertical-align: middle;\n",
              "    }\n",
              "\n",
              "    .dataframe tbody tr th {\n",
              "        vertical-align: top;\n",
              "    }\n",
              "\n",
              "    .dataframe thead th {\n",
              "        text-align: right;\n",
              "    }\n",
              "</style>\n",
              "<table border=\"1\" class=\"dataframe\">\n",
              "  <thead>\n",
              "    <tr style=\"text-align: right;\">\n",
              "      <th></th>\n",
              "      <th>InvoiceNo</th>\n",
              "      <th>StockCode</th>\n",
              "      <th>Description</th>\n",
              "      <th>Quantity</th>\n",
              "      <th>InvoiceDate</th>\n",
              "      <th>UnitPrice</th>\n",
              "      <th>CustomerID</th>\n",
              "      <th>Country</th>\n",
              "    </tr>\n",
              "  </thead>\n",
              "  <tbody>\n",
              "    <tr>\n",
              "      <th>0</th>\n",
              "      <td>536365</td>\n",
              "      <td>85123A</td>\n",
              "      <td>WHITE HANGING HEART T-LIGHT HOLDER</td>\n",
              "      <td>6</td>\n",
              "      <td>2010-12-01 08:26:00</td>\n",
              "      <td>2.55</td>\n",
              "      <td>17850.0</td>\n",
              "      <td>United Kingdom</td>\n",
              "    </tr>\n",
              "    <tr>\n",
              "      <th>1</th>\n",
              "      <td>536365</td>\n",
              "      <td>71053</td>\n",
              "      <td>WHITE METAL LANTERN</td>\n",
              "      <td>6</td>\n",
              "      <td>2010-12-01 08:26:00</td>\n",
              "      <td>3.39</td>\n",
              "      <td>17850.0</td>\n",
              "      <td>United Kingdom</td>\n",
              "    </tr>\n",
              "    <tr>\n",
              "      <th>2</th>\n",
              "      <td>536365</td>\n",
              "      <td>84406B</td>\n",
              "      <td>CREAM CUPID HEARTS COAT HANGER</td>\n",
              "      <td>8</td>\n",
              "      <td>2010-12-01 08:26:00</td>\n",
              "      <td>2.75</td>\n",
              "      <td>17850.0</td>\n",
              "      <td>United Kingdom</td>\n",
              "    </tr>\n",
              "    <tr>\n",
              "      <th>3</th>\n",
              "      <td>536365</td>\n",
              "      <td>84029G</td>\n",
              "      <td>KNITTED UNION FLAG HOT WATER BOTTLE</td>\n",
              "      <td>6</td>\n",
              "      <td>2010-12-01 08:26:00</td>\n",
              "      <td>3.39</td>\n",
              "      <td>17850.0</td>\n",
              "      <td>United Kingdom</td>\n",
              "    </tr>\n",
              "    <tr>\n",
              "      <th>4</th>\n",
              "      <td>536365</td>\n",
              "      <td>84029E</td>\n",
              "      <td>RED WOOLLY HOTTIE WHITE HEART.</td>\n",
              "      <td>6</td>\n",
              "      <td>2010-12-01 08:26:00</td>\n",
              "      <td>3.39</td>\n",
              "      <td>17850.0</td>\n",
              "      <td>United Kingdom</td>\n",
              "    </tr>\n",
              "  </tbody>\n",
              "</table>\n",
              "</div>"
            ],
            "text/plain": [
              "  InvoiceNo StockCode  ... CustomerID         Country\n",
              "0    536365    85123A  ...    17850.0  United Kingdom\n",
              "1    536365     71053  ...    17850.0  United Kingdom\n",
              "2    536365    84406B  ...    17850.0  United Kingdom\n",
              "3    536365    84029G  ...    17850.0  United Kingdom\n",
              "4    536365    84029E  ...    17850.0  United Kingdom\n",
              "\n",
              "[5 rows x 8 columns]"
            ]
          },
          "metadata": {
            "tags": []
          },
          "execution_count": 4
        }
      ]
    },
    {
      "cell_type": "markdown",
      "metadata": {
        "id": "znOub8Kv3_i9"
      },
      "source": [
        "# 8 features but use only 4 : quantity, invoice date, unit price, customer ID \n",
        "# total 541,909 transactions"
      ]
    },
    {
      "cell_type": "code",
      "metadata": {
        "id": "_W77WIgG5g6z",
        "outputId": "4c457db0-e948-43b8-8d83-a66060693090",
        "colab": {
          "base_uri": "https://localhost:8080/",
          "height": 34
        }
      },
      "source": [
        "df.shape"
      ],
      "execution_count": 5,
      "outputs": [
        {
          "output_type": "execute_result",
          "data": {
            "text/plain": [
              "(541909, 8)"
            ]
          },
          "metadata": {
            "tags": []
          },
          "execution_count": 5
        }
      ]
    },
    {
      "cell_type": "markdown",
      "metadata": {
        "id": "8pqE2TJC6W-H"
      },
      "source": [
        "# Check missing value "
      ]
    },
    {
      "cell_type": "code",
      "metadata": {
        "id": "XqSvgUB36yOh",
        "outputId": "a6d21b59-c93c-453a-e857-d4e396b838c6",
        "colab": {
          "base_uri": "https://localhost:8080/",
          "height": 170
        }
      },
      "source": [
        "df.isna().sum()"
      ],
      "execution_count": 6,
      "outputs": [
        {
          "output_type": "execute_result",
          "data": {
            "text/plain": [
              "InvoiceNo           0\n",
              "StockCode           0\n",
              "Description      1454\n",
              "Quantity            0\n",
              "InvoiceDate         0\n",
              "UnitPrice           0\n",
              "CustomerID     135080\n",
              "Country             0\n",
              "dtype: int64"
            ]
          },
          "metadata": {
            "tags": []
          },
          "execution_count": 6
        }
      ]
    },
    {
      "cell_type": "markdown",
      "metadata": {
        "id": "SZyzW1pC68V_"
      },
      "source": [
        "# Drop 135,080 rows without customer ID\n",
        "# ---> total transactions = 406,829"
      ]
    },
    {
      "cell_type": "code",
      "metadata": {
        "id": "aXviOMAp7IB6",
        "outputId": "993ceb99-2182-4b34-bdc1-19a4b392dfbb",
        "colab": {
          "base_uri": "https://localhost:8080/",
          "height": 34
        }
      },
      "source": [
        "df1 = df.dropna(subset=['CustomerID'])\n",
        "df1.shape"
      ],
      "execution_count": 7,
      "outputs": [
        {
          "output_type": "execute_result",
          "data": {
            "text/plain": [
              "(406829, 8)"
            ]
          },
          "metadata": {
            "tags": []
          },
          "execution_count": 7
        }
      ]
    },
    {
      "cell_type": "code",
      "metadata": {
        "id": "NWT77IRz7dKX",
        "outputId": "70ce0e67-1cb2-4e0c-fa21-db374f6bd31e",
        "colab": {
          "base_uri": "https://localhost:8080/",
          "height": 272
        }
      },
      "source": [
        "# InvoiceDate column is already shown in datetime type, so no need to conduct further transformation.\n",
        "df1.info()"
      ],
      "execution_count": 8,
      "outputs": [
        {
          "output_type": "stream",
          "text": [
            "<class 'pandas.core.frame.DataFrame'>\n",
            "Int64Index: 406829 entries, 0 to 541908\n",
            "Data columns (total 8 columns):\n",
            " #   Column       Non-Null Count   Dtype         \n",
            "---  ------       --------------   -----         \n",
            " 0   InvoiceNo    406829 non-null  object        \n",
            " 1   StockCode    406829 non-null  object        \n",
            " 2   Description  406829 non-null  object        \n",
            " 3   Quantity     406829 non-null  int64         \n",
            " 4   InvoiceDate  406829 non-null  datetime64[ns]\n",
            " 5   UnitPrice    406829 non-null  float64       \n",
            " 6   CustomerID   406829 non-null  float64       \n",
            " 7   Country      406829 non-null  object        \n",
            "dtypes: datetime64[ns](1), float64(2), int64(1), object(4)\n",
            "memory usage: 27.9+ MB\n"
          ],
          "name": "stdout"
        }
      ]
    },
    {
      "cell_type": "markdown",
      "metadata": {
        "id": "rA1cYKRq2cbp"
      },
      "source": [
        "# Remove duplicate rows, keeping the first one\n",
        "\n",
        "\n",
        "\n"
      ]
    },
    {
      "cell_type": "code",
      "metadata": {
        "id": "GflaYTrV2f70"
      },
      "source": [
        "df1 = df1.drop_duplicates()"
      ],
      "execution_count": 9,
      "outputs": []
    },
    {
      "cell_type": "code",
      "metadata": {
        "id": "ktTkOink3Hwj",
        "outputId": "197cb9ef-dc2d-490f-ceea-5ccadf7ff7ea",
        "colab": {
          "base_uri": "https://localhost:8080/",
          "height": 34
        }
      },
      "source": [
        "df1.shape"
      ],
      "execution_count": 10,
      "outputs": [
        {
          "output_type": "execute_result",
          "data": {
            "text/plain": [
              "(401604, 8)"
            ]
          },
          "metadata": {
            "tags": []
          },
          "execution_count": 10
        }
      ]
    },
    {
      "cell_type": "markdown",
      "metadata": {
        "id": "VBspe1ZV2ma5"
      },
      "source": [
        "# Check distribution of the numeric variables — Quantity and UnitPrice"
      ]
    },
    {
      "cell_type": "code",
      "metadata": {
        "id": "aRQITGdwgUlE",
        "outputId": "6dad030e-2d49-487c-f755-ce6368f98374",
        "colab": {
          "base_uri": "https://localhost:8080/",
          "height": 297
        }
      },
      "source": [
        "df1.describe()"
      ],
      "execution_count": 11,
      "outputs": [
        {
          "output_type": "execute_result",
          "data": {
            "text/html": [
              "<div>\n",
              "<style scoped>\n",
              "    .dataframe tbody tr th:only-of-type {\n",
              "        vertical-align: middle;\n",
              "    }\n",
              "\n",
              "    .dataframe tbody tr th {\n",
              "        vertical-align: top;\n",
              "    }\n",
              "\n",
              "    .dataframe thead th {\n",
              "        text-align: right;\n",
              "    }\n",
              "</style>\n",
              "<table border=\"1\" class=\"dataframe\">\n",
              "  <thead>\n",
              "    <tr style=\"text-align: right;\">\n",
              "      <th></th>\n",
              "      <th>Quantity</th>\n",
              "      <th>UnitPrice</th>\n",
              "      <th>CustomerID</th>\n",
              "    </tr>\n",
              "  </thead>\n",
              "  <tbody>\n",
              "    <tr>\n",
              "      <th>count</th>\n",
              "      <td>401604.000000</td>\n",
              "      <td>401604.000000</td>\n",
              "      <td>401604.000000</td>\n",
              "    </tr>\n",
              "    <tr>\n",
              "      <th>mean</th>\n",
              "      <td>12.183273</td>\n",
              "      <td>3.474064</td>\n",
              "      <td>15281.160818</td>\n",
              "    </tr>\n",
              "    <tr>\n",
              "      <th>std</th>\n",
              "      <td>250.283037</td>\n",
              "      <td>69.764035</td>\n",
              "      <td>1714.006089</td>\n",
              "    </tr>\n",
              "    <tr>\n",
              "      <th>min</th>\n",
              "      <td>-80995.000000</td>\n",
              "      <td>0.000000</td>\n",
              "      <td>12346.000000</td>\n",
              "    </tr>\n",
              "    <tr>\n",
              "      <th>25%</th>\n",
              "      <td>2.000000</td>\n",
              "      <td>1.250000</td>\n",
              "      <td>13939.000000</td>\n",
              "    </tr>\n",
              "    <tr>\n",
              "      <th>50%</th>\n",
              "      <td>5.000000</td>\n",
              "      <td>1.950000</td>\n",
              "      <td>15145.000000</td>\n",
              "    </tr>\n",
              "    <tr>\n",
              "      <th>75%</th>\n",
              "      <td>12.000000</td>\n",
              "      <td>3.750000</td>\n",
              "      <td>16784.000000</td>\n",
              "    </tr>\n",
              "    <tr>\n",
              "      <th>max</th>\n",
              "      <td>80995.000000</td>\n",
              "      <td>38970.000000</td>\n",
              "      <td>18287.000000</td>\n",
              "    </tr>\n",
              "  </tbody>\n",
              "</table>\n",
              "</div>"
            ],
            "text/plain": [
              "            Quantity      UnitPrice     CustomerID\n",
              "count  401604.000000  401604.000000  401604.000000\n",
              "mean       12.183273       3.474064   15281.160818\n",
              "std       250.283037      69.764035    1714.006089\n",
              "min    -80995.000000       0.000000   12346.000000\n",
              "25%         2.000000       1.250000   13939.000000\n",
              "50%         5.000000       1.950000   15145.000000\n",
              "75%        12.000000       3.750000   16784.000000\n",
              "max     80995.000000   38970.000000   18287.000000"
            ]
          },
          "metadata": {
            "tags": []
          },
          "execution_count": 11
        }
      ]
    },
    {
      "cell_type": "markdown",
      "metadata": {
        "id": "4Y2UYAcDqHAG"
      },
      "source": [
        "# Filter only Quantity > 0, UnitPrice > 0"
      ]
    },
    {
      "cell_type": "code",
      "metadata": {
        "id": "Z-JQbBfIh-JE"
      },
      "source": [
        "df1 = df1[df1['Quantity'] > 0]\n",
        "df1 = df1[df1['UnitPrice'] > 0]"
      ],
      "execution_count": 12,
      "outputs": []
    },
    {
      "cell_type": "code",
      "metadata": {
        "id": "oLBkqzSkniCh",
        "outputId": "e732f47b-b52e-4906-e777-1e46baadb10f",
        "colab": {
          "base_uri": "https://localhost:8080/",
          "height": 34
        }
      },
      "source": [
        "df1.shape"
      ],
      "execution_count": 13,
      "outputs": [
        {
          "output_type": "execute_result",
          "data": {
            "text/plain": [
              "(392692, 8)"
            ]
          },
          "metadata": {
            "tags": []
          },
          "execution_count": 13
        }
      ]
    },
    {
      "cell_type": "code",
      "metadata": {
        "id": "NO7QjXKsjLYI",
        "outputId": "cbeb1232-2e15-40ea-ca26-fb69586b72d7",
        "colab": {
          "base_uri": "https://localhost:8080/",
          "height": 297
        }
      },
      "source": [
        "df1.describe()"
      ],
      "execution_count": 14,
      "outputs": [
        {
          "output_type": "execute_result",
          "data": {
            "text/html": [
              "<div>\n",
              "<style scoped>\n",
              "    .dataframe tbody tr th:only-of-type {\n",
              "        vertical-align: middle;\n",
              "    }\n",
              "\n",
              "    .dataframe tbody tr th {\n",
              "        vertical-align: top;\n",
              "    }\n",
              "\n",
              "    .dataframe thead th {\n",
              "        text-align: right;\n",
              "    }\n",
              "</style>\n",
              "<table border=\"1\" class=\"dataframe\">\n",
              "  <thead>\n",
              "    <tr style=\"text-align: right;\">\n",
              "      <th></th>\n",
              "      <th>Quantity</th>\n",
              "      <th>UnitPrice</th>\n",
              "      <th>CustomerID</th>\n",
              "    </tr>\n",
              "  </thead>\n",
              "  <tbody>\n",
              "    <tr>\n",
              "      <th>count</th>\n",
              "      <td>392692.000000</td>\n",
              "      <td>392692.000000</td>\n",
              "      <td>392692.000000</td>\n",
              "    </tr>\n",
              "    <tr>\n",
              "      <th>mean</th>\n",
              "      <td>13.119702</td>\n",
              "      <td>3.125914</td>\n",
              "      <td>15287.843865</td>\n",
              "    </tr>\n",
              "    <tr>\n",
              "      <th>std</th>\n",
              "      <td>180.492832</td>\n",
              "      <td>22.241836</td>\n",
              "      <td>1713.539549</td>\n",
              "    </tr>\n",
              "    <tr>\n",
              "      <th>min</th>\n",
              "      <td>1.000000</td>\n",
              "      <td>0.001000</td>\n",
              "      <td>12346.000000</td>\n",
              "    </tr>\n",
              "    <tr>\n",
              "      <th>25%</th>\n",
              "      <td>2.000000</td>\n",
              "      <td>1.250000</td>\n",
              "      <td>13955.000000</td>\n",
              "    </tr>\n",
              "    <tr>\n",
              "      <th>50%</th>\n",
              "      <td>6.000000</td>\n",
              "      <td>1.950000</td>\n",
              "      <td>15150.000000</td>\n",
              "    </tr>\n",
              "    <tr>\n",
              "      <th>75%</th>\n",
              "      <td>12.000000</td>\n",
              "      <td>3.750000</td>\n",
              "      <td>16791.000000</td>\n",
              "    </tr>\n",
              "    <tr>\n",
              "      <th>max</th>\n",
              "      <td>80995.000000</td>\n",
              "      <td>8142.750000</td>\n",
              "      <td>18287.000000</td>\n",
              "    </tr>\n",
              "  </tbody>\n",
              "</table>\n",
              "</div>"
            ],
            "text/plain": [
              "            Quantity      UnitPrice     CustomerID\n",
              "count  392692.000000  392692.000000  392692.000000\n",
              "mean       13.119702       3.125914   15287.843865\n",
              "std       180.492832      22.241836    1713.539549\n",
              "min         1.000000       0.001000   12346.000000\n",
              "25%         2.000000       1.250000   13955.000000\n",
              "50%         6.000000       1.950000   15150.000000\n",
              "75%        12.000000       3.750000   16791.000000\n",
              "max     80995.000000    8142.750000   18287.000000"
            ]
          },
          "metadata": {
            "tags": []
          },
          "execution_count": 14
        }
      ]
    },
    {
      "cell_type": "markdown",
      "metadata": {
        "id": "mYDxalBY60nn"
      },
      "source": [
        "#BoxPlot Quantity , UnitPrice"
      ]
    },
    {
      "cell_type": "code",
      "metadata": {
        "id": "rBxPDxiX65qt",
        "outputId": "3d058d16-a1f6-46af-8ba4-80bd22fe70a9",
        "colab": {
          "base_uri": "https://localhost:8080/",
          "height": 282
        }
      },
      "source": [
        "df1.boxplot(column =['Quantity']) "
      ],
      "execution_count": 15,
      "outputs": [
        {
          "output_type": "execute_result",
          "data": {
            "text/plain": [
              "<matplotlib.axes._subplots.AxesSubplot at 0x7f3c13d1e208>"
            ]
          },
          "metadata": {
            "tags": []
          },
          "execution_count": 15
        },
        {
          "output_type": "display_data",
          "data": {
            "image/png": "[encoded data removed]",
            "text/plain": [
              "<Figure size 432x288 with 1 Axes>"
            ]
          },
          "metadata": {
            "tags": [],
            "needs_background": "light"
          }
        }
      ]
    },
    {
      "cell_type": "markdown",
      "metadata": {
        "id": "-4xbXtU79ncu"
      },
      "source": [
        "# Remove outliers, Quantity > 70000"
      ]
    },
    {
      "cell_type": "code",
      "metadata": {
        "id": "Hhq7IY_m9x-X",
        "outputId": "92980039-9fdc-43ed-fb42-b8ea848d8cb7",
        "colab": {
          "base_uri": "https://localhost:8080/",
          "height": 285
        }
      },
      "source": [
        "df1 = df1[df1['Quantity'] < 70000]\n",
        "df1.boxplot(column =['Quantity']) "
      ],
      "execution_count": 16,
      "outputs": [
        {
          "output_type": "execute_result",
          "data": {
            "text/plain": [
              "<matplotlib.axes._subplots.AxesSubplot at 0x7f3c14d9f3c8>"
            ]
          },
          "metadata": {
            "tags": []
          },
          "execution_count": 16
        },
        {
          "output_type": "display_data",
          "data": {
            "image/png": "[encoded data removed]",
            "text/plain": [
              "<Figure size 432x288 with 1 Axes>"
            ]
          },
          "metadata": {
            "tags": [],
            "needs_background": "light"
          }
        }
      ]
    },
    {
      "cell_type": "markdown",
      "metadata": {
        "id": "jnIbHe1d9nZT"
      },
      "source": [
        ""
      ]
    },
    {
      "cell_type": "code",
      "metadata": {
        "id": "ZtV4lR6j9TVl",
        "outputId": "04811909-5dba-4143-bcad-c714d888161d",
        "colab": {
          "base_uri": "https://localhost:8080/",
          "height": 282
        }
      },
      "source": [
        "df1.boxplot(column = ['UnitPrice'])"
      ],
      "execution_count": 17,
      "outputs": [
        {
          "output_type": "execute_result",
          "data": {
            "text/plain": [
              "<matplotlib.axes._subplots.AxesSubplot at 0x7f3c13835400>"
            ]
          },
          "metadata": {
            "tags": []
          },
          "execution_count": 17
        },
        {
          "output_type": "display_data",
          "data": {
            "image/png": "[encoded data removed]",
            "text/plain": [
              "<Figure size 432x288 with 1 Axes>"
            ]
          },
          "metadata": {
            "tags": [],
            "needs_background": "light"
          }
        }
      ]
    },
    {
      "cell_type": "code",
      "metadata": {
        "id": "Mav3CsGO-KF_",
        "outputId": "0f7d08ec-b1c8-4603-f55a-6883a5f808df",
        "colab": {
          "base_uri": "https://localhost:8080/",
          "height": 282
        }
      },
      "source": [
        "df1 = df1[df1['UnitPrice'] < 8000]\n",
        "df1.boxplot(column =['UnitPrice']) "
      ],
      "execution_count": 18,
      "outputs": [
        {
          "output_type": "execute_result",
          "data": {
            "text/plain": [
              "<matplotlib.axes._subplots.AxesSubplot at 0x7f3c137c37f0>"
            ]
          },
          "metadata": {
            "tags": []
          },
          "execution_count": 18
        },
        {
          "output_type": "display_data",
          "data": {
            "image/png": "[encoded data removed]",
            "text/plain": [
              "<Figure size 432x288 with 1 Axes>"
            ]
          },
          "metadata": {
            "tags": [],
            "needs_background": "light"
          }
        }
      ]
    },
    {
      "cell_type": "code",
      "metadata": {
        "id": "vlD3AMcpBi52",
        "outputId": "451e43cd-a3f2-4f1c-f021-d7980bf52333",
        "colab": {
          "base_uri": "https://localhost:8080/",
          "height": 297
        }
      },
      "source": [
        "df1.describe()"
      ],
      "execution_count": 19,
      "outputs": [
        {
          "output_type": "execute_result",
          "data": {
            "text/html": [
              "<div>\n",
              "<style scoped>\n",
              "    .dataframe tbody tr th:only-of-type {\n",
              "        vertical-align: middle;\n",
              "    }\n",
              "\n",
              "    .dataframe tbody tr th {\n",
              "        vertical-align: top;\n",
              "    }\n",
              "\n",
              "    .dataframe thead th {\n",
              "        text-align: right;\n",
              "    }\n",
              "</style>\n",
              "<table border=\"1\" class=\"dataframe\">\n",
              "  <thead>\n",
              "    <tr style=\"text-align: right;\">\n",
              "      <th></th>\n",
              "      <th>Quantity</th>\n",
              "      <th>UnitPrice</th>\n",
              "      <th>CustomerID</th>\n",
              "    </tr>\n",
              "  </thead>\n",
              "  <tbody>\n",
              "    <tr>\n",
              "      <th>count</th>\n",
              "      <td>392689.000000</td>\n",
              "      <td>392689.000000</td>\n",
              "      <td>392689.000000</td>\n",
              "    </tr>\n",
              "    <tr>\n",
              "      <th>mean</th>\n",
              "      <td>12.724550</td>\n",
              "      <td>3.105194</td>\n",
              "      <td>15287.846520</td>\n",
              "    </tr>\n",
              "    <tr>\n",
              "      <th>std</th>\n",
              "      <td>43.083696</td>\n",
              "      <td>18.055047</td>\n",
              "      <td>1713.538259</td>\n",
              "    </tr>\n",
              "    <tr>\n",
              "      <th>min</th>\n",
              "      <td>1.000000</td>\n",
              "      <td>0.001000</td>\n",
              "      <td>12347.000000</td>\n",
              "    </tr>\n",
              "    <tr>\n",
              "      <th>25%</th>\n",
              "      <td>2.000000</td>\n",
              "      <td>1.250000</td>\n",
              "      <td>13955.000000</td>\n",
              "    </tr>\n",
              "    <tr>\n",
              "      <th>50%</th>\n",
              "      <td>6.000000</td>\n",
              "      <td>1.950000</td>\n",
              "      <td>15150.000000</td>\n",
              "    </tr>\n",
              "    <tr>\n",
              "      <th>75%</th>\n",
              "      <td>12.000000</td>\n",
              "      <td>3.750000</td>\n",
              "      <td>16791.000000</td>\n",
              "    </tr>\n",
              "    <tr>\n",
              "      <th>max</th>\n",
              "      <td>4800.000000</td>\n",
              "      <td>4161.060000</td>\n",
              "      <td>18287.000000</td>\n",
              "    </tr>\n",
              "  </tbody>\n",
              "</table>\n",
              "</div>"
            ],
            "text/plain": [
              "            Quantity      UnitPrice     CustomerID\n",
              "count  392689.000000  392689.000000  392689.000000\n",
              "mean       12.724550       3.105194   15287.846520\n",
              "std        43.083696      18.055047    1713.538259\n",
              "min         1.000000       0.001000   12347.000000\n",
              "25%         2.000000       1.250000   13955.000000\n",
              "50%         6.000000       1.950000   15150.000000\n",
              "75%        12.000000       3.750000   16791.000000\n",
              "max      4800.000000    4161.060000   18287.000000"
            ]
          },
          "metadata": {
            "tags": []
          },
          "execution_count": 19
        }
      ]
    },
    {
      "cell_type": "markdown",
      "metadata": {
        "id": "b5rAI4ww8Ft_"
      },
      "source": [
        "# Create Cohort & Conduct Cohort Analysis\n",
        "# - create InvoiceMonth โดยใช้ get_month ไปดึง month จาก InvoiceDate\n",
        "# - create CohortMonth (first month for the specific user ID when that user shopped at this online retailer หรือ เรียกว่า acquisition month)"
      ]
    },
    {
      "cell_type": "code",
      "metadata": {
        "id": "TRwAXPjI9s_F"
      },
      "source": [
        "def get_month(x):\n",
        "    return dt.datetime(x.year, x.month, 1)\n",
        "df1['InvoiceMonth'] = df1['InvoiceDate'].apply(get_month)\n",
        "# groupby and transform are used for creating the cohort month.\n",
        "df1['CohortMonth'] = df1.groupby('CustomerID')['InvoiceMonth'].transform('min')"
      ],
      "execution_count": 20,
      "outputs": []
    },
    {
      "cell_type": "code",
      "metadata": {
        "id": "9wNQ1Yrp2Izy",
        "outputId": "1be8d982-2231-46bd-89d3-a12ba8e897ad",
        "colab": {
          "base_uri": "https://localhost:8080/",
          "height": 306
        }
      },
      "source": [
        "df1.info()"
      ],
      "execution_count": 21,
      "outputs": [
        {
          "output_type": "stream",
          "text": [
            "<class 'pandas.core.frame.DataFrame'>\n",
            "Int64Index: 392689 entries, 0 to 541908\n",
            "Data columns (total 10 columns):\n",
            " #   Column        Non-Null Count   Dtype         \n",
            "---  ------        --------------   -----         \n",
            " 0   InvoiceNo     392689 non-null  object        \n",
            " 1   StockCode     392689 non-null  object        \n",
            " 2   Description   392689 non-null  object        \n",
            " 3   Quantity      392689 non-null  int64         \n",
            " 4   InvoiceDate   392689 non-null  datetime64[ns]\n",
            " 5   UnitPrice     392689 non-null  float64       \n",
            " 6   CustomerID    392689 non-null  float64       \n",
            " 7   Country       392689 non-null  object        \n",
            " 8   InvoiceMonth  392689 non-null  datetime64[ns]\n",
            " 9   CohortMonth   392689 non-null  datetime64[ns]\n",
            "dtypes: datetime64[ns](3), float64(2), int64(1), object(4)\n",
            "memory usage: 33.0+ MB\n"
          ],
          "name": "stdout"
        }
      ]
    },
    {
      "cell_type": "markdown",
      "metadata": {
        "id": "XWg_SO15_FMm"
      },
      "source": [
        "# Create cohort index (month difference between invoice month and cohort month ) for each row [or the month lapse between that specific transaction and the first transaction that user made on the website.]"
      ]
    },
    {
      "cell_type": "code",
      "metadata": {
        "id": "Le_ELc_6_9yA",
        "outputId": "bd8b4ae8-a959-43b1-e948-4365f119884a",
        "colab": {
          "base_uri": "https://localhost:8080/",
          "height": 204
        }
      },
      "source": [
        "def get_date(df, column):\n",
        "    year = df[column].dt.year\n",
        "    month = df[column].dt.month\n",
        "    day = df[column].dt.day\n",
        "    return year, month, day\n",
        "invoice_year, invoice_month, _ = get_date(df1, 'InvoiceMonth')\n",
        "cohort_year, cohort_month, _ = get_date(df1, 'CohortMonth')\n",
        "year_diff = invoice_year - cohort_year\n",
        "month_diff = invoice_month - cohort_month\n",
        "# month_diff + 1 ---> cohortindex start at 1 \n",
        "df1['CohortIndex'] = year_diff * 12 + month_diff + 1\n",
        "df1.sample(5)"
      ],
      "execution_count": 22,
      "outputs": [
        {
          "output_type": "execute_result",
          "data": {
            "text/html": [
              "<div>\n",
              "<style scoped>\n",
              "    .dataframe tbody tr th:only-of-type {\n",
              "        vertical-align: middle;\n",
              "    }\n",
              "\n",
              "    .dataframe tbody tr th {\n",
              "        vertical-align: top;\n",
              "    }\n",
              "\n",
              "    .dataframe thead th {\n",
              "        text-align: right;\n",
              "    }\n",
              "</style>\n",
              "<table border=\"1\" class=\"dataframe\">\n",
              "  <thead>\n",
              "    <tr style=\"text-align: right;\">\n",
              "      <th></th>\n",
              "      <th>InvoiceNo</th>\n",
              "      <th>StockCode</th>\n",
              "      <th>Description</th>\n",
              "      <th>Quantity</th>\n",
              "      <th>InvoiceDate</th>\n",
              "      <th>UnitPrice</th>\n",
              "      <th>CustomerID</th>\n",
              "      <th>Country</th>\n",
              "      <th>InvoiceMonth</th>\n",
              "      <th>CohortMonth</th>\n",
              "      <th>CohortIndex</th>\n",
              "    </tr>\n",
              "  </thead>\n",
              "  <tbody>\n",
              "    <tr>\n",
              "      <th>24200</th>\n",
              "      <td>538343</td>\n",
              "      <td>22111</td>\n",
              "      <td>SCOTTIE DOG HOT WATER BOTTLE</td>\n",
              "      <td>12</td>\n",
              "      <td>2010-12-10 14:29:00</td>\n",
              "      <td>4.95</td>\n",
              "      <td>13448.0</td>\n",
              "      <td>United Kingdom</td>\n",
              "      <td>2010-12-01</td>\n",
              "      <td>2010-12-01</td>\n",
              "      <td>1</td>\n",
              "    </tr>\n",
              "    <tr>\n",
              "      <th>75892</th>\n",
              "      <td>542613</td>\n",
              "      <td>21974</td>\n",
              "      <td>SET OF 36 PAISLEY FLOWER DOILIES</td>\n",
              "      <td>3</td>\n",
              "      <td>2011-01-30 14:36:00</td>\n",
              "      <td>1.45</td>\n",
              "      <td>17431.0</td>\n",
              "      <td>United Kingdom</td>\n",
              "      <td>2011-01-01</td>\n",
              "      <td>2011-01-01</td>\n",
              "      <td>1</td>\n",
              "    </tr>\n",
              "    <tr>\n",
              "      <th>327773</th>\n",
              "      <td>565726</td>\n",
              "      <td>82600</td>\n",
              "      <td>NO SINGING METAL SIGN</td>\n",
              "      <td>12</td>\n",
              "      <td>2011-09-06 11:58:00</td>\n",
              "      <td>2.10</td>\n",
              "      <td>14360.0</td>\n",
              "      <td>United Kingdom</td>\n",
              "      <td>2011-09-01</td>\n",
              "      <td>2011-09-01</td>\n",
              "      <td>1</td>\n",
              "    </tr>\n",
              "    <tr>\n",
              "      <th>80064</th>\n",
              "      <td>543015</td>\n",
              "      <td>22385</td>\n",
              "      <td>JUMBO BAG SPACEBOY DESIGN</td>\n",
              "      <td>20</td>\n",
              "      <td>2011-02-02 13:46:00</td>\n",
              "      <td>1.95</td>\n",
              "      <td>14188.0</td>\n",
              "      <td>United Kingdom</td>\n",
              "      <td>2011-02-01</td>\n",
              "      <td>2011-02-01</td>\n",
              "      <td>1</td>\n",
              "    </tr>\n",
              "    <tr>\n",
              "      <th>212976</th>\n",
              "      <td>555515</td>\n",
              "      <td>84879</td>\n",
              "      <td>ASSORTED COLOUR BIRD ORNAMENT</td>\n",
              "      <td>16</td>\n",
              "      <td>2011-06-05 10:47:00</td>\n",
              "      <td>1.69</td>\n",
              "      <td>17690.0</td>\n",
              "      <td>United Kingdom</td>\n",
              "      <td>2011-06-01</td>\n",
              "      <td>2010-12-01</td>\n",
              "      <td>7</td>\n",
              "    </tr>\n",
              "  </tbody>\n",
              "</table>\n",
              "</div>"
            ],
            "text/plain": [
              "       InvoiceNo StockCode  ... CohortMonth  CohortIndex\n",
              "24200     538343     22111  ...  2010-12-01            1\n",
              "75892     542613     21974  ...  2011-01-01            1\n",
              "327773    565726     82600  ...  2011-09-01            1\n",
              "80064     543015     22385  ...  2011-02-01            1\n",
              "212976    555515     84879  ...  2010-12-01            7\n",
              "\n",
              "[5 rows x 11 columns]"
            ]
          },
          "metadata": {
            "tags": []
          },
          "execution_count": 22
        }
      ]
    },
    {
      "cell_type": "markdown",
      "metadata": {
        "id": "N1aQ8a0QBRoL"
      },
      "source": [
        "# Create 1st Cohort: User number & Retention Rate\n",
        "# e.g. The 13th column and 2010–12–1 row means 260 users out of 948 users were still buying things after the 13 months from 2010/12/1"
      ]
    },
    {
      "cell_type": "code",
      "metadata": {
        "id": "EeJwHQwTBbIN",
        "outputId": "9b14f6f5-0ad2-43f2-e53c-124100ca8916",
        "colab": {
          "base_uri": "https://localhost:8080/",
          "height": 483
        }
      },
      "source": [
        "cohort_data = df1.groupby(['CohortMonth', 'CohortIndex'])['CustomerID'].apply(pd.Series.nunique).reset_index()\n",
        "cohort_count = cohort_data.pivot_table(index = 'CohortMonth',\n",
        "                                       columns = 'CohortIndex',\n",
        "                                       values = 'CustomerID')\n",
        "cohort_count"
      ],
      "execution_count": 23,
      "outputs": [
        {
          "output_type": "execute_result",
          "data": {
            "text/html": [
              "<div>\n",
              "<style scoped>\n",
              "    .dataframe tbody tr th:only-of-type {\n",
              "        vertical-align: middle;\n",
              "    }\n",
              "\n",
              "    .dataframe tbody tr th {\n",
              "        vertical-align: top;\n",
              "    }\n",
              "\n",
              "    .dataframe thead th {\n",
              "        text-align: right;\n",
              "    }\n",
              "</style>\n",
              "<table border=\"1\" class=\"dataframe\">\n",
              "  <thead>\n",
              "    <tr style=\"text-align: right;\">\n",
              "      <th>CohortIndex</th>\n",
              "      <th>1</th>\n",
              "      <th>2</th>\n",
              "      <th>3</th>\n",
              "      <th>4</th>\n",
              "      <th>5</th>\n",
              "      <th>6</th>\n",
              "      <th>7</th>\n",
              "      <th>8</th>\n",
              "      <th>9</th>\n",
              "      <th>10</th>\n",
              "      <th>11</th>\n",
              "      <th>12</th>\n",
              "      <th>13</th>\n",
              "    </tr>\n",
              "    <tr>\n",
              "      <th>CohortMonth</th>\n",
              "      <th></th>\n",
              "      <th></th>\n",
              "      <th></th>\n",
              "      <th></th>\n",
              "      <th></th>\n",
              "      <th></th>\n",
              "      <th></th>\n",
              "      <th></th>\n",
              "      <th></th>\n",
              "      <th></th>\n",
              "      <th></th>\n",
              "      <th></th>\n",
              "      <th></th>\n",
              "    </tr>\n",
              "  </thead>\n",
              "  <tbody>\n",
              "    <tr>\n",
              "      <th>2010-12-01</th>\n",
              "      <td>885.0</td>\n",
              "      <td>324.0</td>\n",
              "      <td>286.0</td>\n",
              "      <td>340.0</td>\n",
              "      <td>321.0</td>\n",
              "      <td>352.0</td>\n",
              "      <td>321.0</td>\n",
              "      <td>309.0</td>\n",
              "      <td>313.0</td>\n",
              "      <td>350.0</td>\n",
              "      <td>331.0</td>\n",
              "      <td>445.0</td>\n",
              "      <td>235.0</td>\n",
              "    </tr>\n",
              "    <tr>\n",
              "      <th>2011-01-01</th>\n",
              "      <td>416.0</td>\n",
              "      <td>92.0</td>\n",
              "      <td>111.0</td>\n",
              "      <td>96.0</td>\n",
              "      <td>134.0</td>\n",
              "      <td>120.0</td>\n",
              "      <td>103.0</td>\n",
              "      <td>101.0</td>\n",
              "      <td>125.0</td>\n",
              "      <td>136.0</td>\n",
              "      <td>152.0</td>\n",
              "      <td>49.0</td>\n",
              "      <td>NaN</td>\n",
              "    </tr>\n",
              "    <tr>\n",
              "      <th>2011-02-01</th>\n",
              "      <td>380.0</td>\n",
              "      <td>71.0</td>\n",
              "      <td>71.0</td>\n",
              "      <td>108.0</td>\n",
              "      <td>103.0</td>\n",
              "      <td>94.0</td>\n",
              "      <td>96.0</td>\n",
              "      <td>106.0</td>\n",
              "      <td>94.0</td>\n",
              "      <td>116.0</td>\n",
              "      <td>26.0</td>\n",
              "      <td>NaN</td>\n",
              "      <td>NaN</td>\n",
              "    </tr>\n",
              "    <tr>\n",
              "      <th>2011-03-01</th>\n",
              "      <td>452.0</td>\n",
              "      <td>68.0</td>\n",
              "      <td>114.0</td>\n",
              "      <td>90.0</td>\n",
              "      <td>101.0</td>\n",
              "      <td>76.0</td>\n",
              "      <td>121.0</td>\n",
              "      <td>104.0</td>\n",
              "      <td>126.0</td>\n",
              "      <td>39.0</td>\n",
              "      <td>NaN</td>\n",
              "      <td>NaN</td>\n",
              "      <td>NaN</td>\n",
              "    </tr>\n",
              "    <tr>\n",
              "      <th>2011-04-01</th>\n",
              "      <td>300.0</td>\n",
              "      <td>64.0</td>\n",
              "      <td>61.0</td>\n",
              "      <td>63.0</td>\n",
              "      <td>59.0</td>\n",
              "      <td>68.0</td>\n",
              "      <td>65.0</td>\n",
              "      <td>78.0</td>\n",
              "      <td>22.0</td>\n",
              "      <td>NaN</td>\n",
              "      <td>NaN</td>\n",
              "      <td>NaN</td>\n",
              "      <td>NaN</td>\n",
              "    </tr>\n",
              "    <tr>\n",
              "      <th>2011-05-01</th>\n",
              "      <td>284.0</td>\n",
              "      <td>54.0</td>\n",
              "      <td>49.0</td>\n",
              "      <td>49.0</td>\n",
              "      <td>59.0</td>\n",
              "      <td>66.0</td>\n",
              "      <td>75.0</td>\n",
              "      <td>26.0</td>\n",
              "      <td>NaN</td>\n",
              "      <td>NaN</td>\n",
              "      <td>NaN</td>\n",
              "      <td>NaN</td>\n",
              "      <td>NaN</td>\n",
              "    </tr>\n",
              "    <tr>\n",
              "      <th>2011-06-01</th>\n",
              "      <td>242.0</td>\n",
              "      <td>42.0</td>\n",
              "      <td>38.0</td>\n",
              "      <td>64.0</td>\n",
              "      <td>56.0</td>\n",
              "      <td>81.0</td>\n",
              "      <td>23.0</td>\n",
              "      <td>NaN</td>\n",
              "      <td>NaN</td>\n",
              "      <td>NaN</td>\n",
              "      <td>NaN</td>\n",
              "      <td>NaN</td>\n",
              "      <td>NaN</td>\n",
              "    </tr>\n",
              "    <tr>\n",
              "      <th>2011-07-01</th>\n",
              "      <td>188.0</td>\n",
              "      <td>34.0</td>\n",
              "      <td>39.0</td>\n",
              "      <td>42.0</td>\n",
              "      <td>51.0</td>\n",
              "      <td>21.0</td>\n",
              "      <td>NaN</td>\n",
              "      <td>NaN</td>\n",
              "      <td>NaN</td>\n",
              "      <td>NaN</td>\n",
              "      <td>NaN</td>\n",
              "      <td>NaN</td>\n",
              "      <td>NaN</td>\n",
              "    </tr>\n",
              "    <tr>\n",
              "      <th>2011-08-01</th>\n",
              "      <td>169.0</td>\n",
              "      <td>35.0</td>\n",
              "      <td>42.0</td>\n",
              "      <td>41.0</td>\n",
              "      <td>21.0</td>\n",
              "      <td>NaN</td>\n",
              "      <td>NaN</td>\n",
              "      <td>NaN</td>\n",
              "      <td>NaN</td>\n",
              "      <td>NaN</td>\n",
              "      <td>NaN</td>\n",
              "      <td>NaN</td>\n",
              "      <td>NaN</td>\n",
              "    </tr>\n",
              "    <tr>\n",
              "      <th>2011-09-01</th>\n",
              "      <td>299.0</td>\n",
              "      <td>70.0</td>\n",
              "      <td>90.0</td>\n",
              "      <td>34.0</td>\n",
              "      <td>NaN</td>\n",
              "      <td>NaN</td>\n",
              "      <td>NaN</td>\n",
              "      <td>NaN</td>\n",
              "      <td>NaN</td>\n",
              "      <td>NaN</td>\n",
              "      <td>NaN</td>\n",
              "      <td>NaN</td>\n",
              "      <td>NaN</td>\n",
              "    </tr>\n",
              "    <tr>\n",
              "      <th>2011-10-01</th>\n",
              "      <td>358.0</td>\n",
              "      <td>86.0</td>\n",
              "      <td>41.0</td>\n",
              "      <td>NaN</td>\n",
              "      <td>NaN</td>\n",
              "      <td>NaN</td>\n",
              "      <td>NaN</td>\n",
              "      <td>NaN</td>\n",
              "      <td>NaN</td>\n",
              "      <td>NaN</td>\n",
              "      <td>NaN</td>\n",
              "      <td>NaN</td>\n",
              "      <td>NaN</td>\n",
              "    </tr>\n",
              "    <tr>\n",
              "      <th>2011-11-01</th>\n",
              "      <td>323.0</td>\n",
              "      <td>36.0</td>\n",
              "      <td>NaN</td>\n",
              "      <td>NaN</td>\n",
              "      <td>NaN</td>\n",
              "      <td>NaN</td>\n",
              "      <td>NaN</td>\n",
              "      <td>NaN</td>\n",
              "      <td>NaN</td>\n",
              "      <td>NaN</td>\n",
              "      <td>NaN</td>\n",
              "      <td>NaN</td>\n",
              "      <td>NaN</td>\n",
              "    </tr>\n",
              "    <tr>\n",
              "      <th>2011-12-01</th>\n",
              "      <td>41.0</td>\n",
              "      <td>NaN</td>\n",
              "      <td>NaN</td>\n",
              "      <td>NaN</td>\n",
              "      <td>NaN</td>\n",
              "      <td>NaN</td>\n",
              "      <td>NaN</td>\n",
              "      <td>NaN</td>\n",
              "      <td>NaN</td>\n",
              "      <td>NaN</td>\n",
              "      <td>NaN</td>\n",
              "      <td>NaN</td>\n",
              "      <td>NaN</td>\n",
              "    </tr>\n",
              "  </tbody>\n",
              "</table>\n",
              "</div>"
            ],
            "text/plain": [
              "CohortIndex     1      2      3      4   ...     10     11     12     13\n",
              "CohortMonth                              ...                            \n",
              "2010-12-01   885.0  324.0  286.0  340.0  ...  350.0  331.0  445.0  235.0\n",
              "2011-01-01   416.0   92.0  111.0   96.0  ...  136.0  152.0   49.0    NaN\n",
              "2011-02-01   380.0   71.0   71.0  108.0  ...  116.0   26.0    NaN    NaN\n",
              "2011-03-01   452.0   68.0  114.0   90.0  ...   39.0    NaN    NaN    NaN\n",
              "2011-04-01   300.0   64.0   61.0   63.0  ...    NaN    NaN    NaN    NaN\n",
              "2011-05-01   284.0   54.0   49.0   49.0  ...    NaN    NaN    NaN    NaN\n",
              "2011-06-01   242.0   42.0   38.0   64.0  ...    NaN    NaN    NaN    NaN\n",
              "2011-07-01   188.0   34.0   39.0   42.0  ...    NaN    NaN    NaN    NaN\n",
              "2011-08-01   169.0   35.0   42.0   41.0  ...    NaN    NaN    NaN    NaN\n",
              "2011-09-01   299.0   70.0   90.0   34.0  ...    NaN    NaN    NaN    NaN\n",
              "2011-10-01   358.0   86.0   41.0    NaN  ...    NaN    NaN    NaN    NaN\n",
              "2011-11-01   323.0   36.0    NaN    NaN  ...    NaN    NaN    NaN    NaN\n",
              "2011-12-01    41.0    NaN    NaN    NaN  ...    NaN    NaN    NaN    NaN\n",
              "\n",
              "[13 rows x 13 columns]"
            ]
          },
          "metadata": {
            "tags": []
          },
          "execution_count": 23
        }
      ]
    },
    {
      "cell_type": "markdown",
      "metadata": {
        "id": "gMHq_orOCElg"
      },
      "source": [
        "# Transform the absolute number into percentage ---> retention rate "
      ]
    },
    {
      "cell_type": "code",
      "metadata": {
        "id": "RFNUXJy2CVIH",
        "outputId": "e557d061-4012-4fb0-b796-6bdf5c96f019",
        "colab": {
          "base_uri": "https://localhost:8080/",
          "height": 483
        }
      },
      "source": [
        "cohort_size = cohort_count.iloc[:,0]\n",
        "retention = cohort_count.divide(cohort_size, axis = 0)\n",
        "retention.round(3) * 100"
      ],
      "execution_count": 24,
      "outputs": [
        {
          "output_type": "execute_result",
          "data": {
            "text/html": [
              "<div>\n",
              "<style scoped>\n",
              "    .dataframe tbody tr th:only-of-type {\n",
              "        vertical-align: middle;\n",
              "    }\n",
              "\n",
              "    .dataframe tbody tr th {\n",
              "        vertical-align: top;\n",
              "    }\n",
              "\n",
              "    .dataframe thead th {\n",
              "        text-align: right;\n",
              "    }\n",
              "</style>\n",
              "<table border=\"1\" class=\"dataframe\">\n",
              "  <thead>\n",
              "    <tr style=\"text-align: right;\">\n",
              "      <th>CohortIndex</th>\n",
              "      <th>1</th>\n",
              "      <th>2</th>\n",
              "      <th>3</th>\n",
              "      <th>4</th>\n",
              "      <th>5</th>\n",
              "      <th>6</th>\n",
              "      <th>7</th>\n",
              "      <th>8</th>\n",
              "      <th>9</th>\n",
              "      <th>10</th>\n",
              "      <th>11</th>\n",
              "      <th>12</th>\n",
              "      <th>13</th>\n",
              "    </tr>\n",
              "    <tr>\n",
              "      <th>CohortMonth</th>\n",
              "      <th></th>\n",
              "      <th></th>\n",
              "      <th></th>\n",
              "      <th></th>\n",
              "      <th></th>\n",
              "      <th></th>\n",
              "      <th></th>\n",
              "      <th></th>\n",
              "      <th></th>\n",
              "      <th></th>\n",
              "      <th></th>\n",
              "      <th></th>\n",
              "      <th></th>\n",
              "    </tr>\n",
              "  </thead>\n",
              "  <tbody>\n",
              "    <tr>\n",
              "      <th>2010-12-01</th>\n",
              "      <td>100.0</td>\n",
              "      <td>36.6</td>\n",
              "      <td>32.3</td>\n",
              "      <td>38.4</td>\n",
              "      <td>36.3</td>\n",
              "      <td>39.8</td>\n",
              "      <td>36.3</td>\n",
              "      <td>34.9</td>\n",
              "      <td>35.4</td>\n",
              "      <td>39.5</td>\n",
              "      <td>37.4</td>\n",
              "      <td>50.3</td>\n",
              "      <td>26.6</td>\n",
              "    </tr>\n",
              "    <tr>\n",
              "      <th>2011-01-01</th>\n",
              "      <td>100.0</td>\n",
              "      <td>22.1</td>\n",
              "      <td>26.7</td>\n",
              "      <td>23.1</td>\n",
              "      <td>32.2</td>\n",
              "      <td>28.8</td>\n",
              "      <td>24.8</td>\n",
              "      <td>24.3</td>\n",
              "      <td>30.0</td>\n",
              "      <td>32.7</td>\n",
              "      <td>36.5</td>\n",
              "      <td>11.8</td>\n",
              "      <td>NaN</td>\n",
              "    </tr>\n",
              "    <tr>\n",
              "      <th>2011-02-01</th>\n",
              "      <td>100.0</td>\n",
              "      <td>18.7</td>\n",
              "      <td>18.7</td>\n",
              "      <td>28.4</td>\n",
              "      <td>27.1</td>\n",
              "      <td>24.7</td>\n",
              "      <td>25.3</td>\n",
              "      <td>27.9</td>\n",
              "      <td>24.7</td>\n",
              "      <td>30.5</td>\n",
              "      <td>6.8</td>\n",
              "      <td>NaN</td>\n",
              "      <td>NaN</td>\n",
              "    </tr>\n",
              "    <tr>\n",
              "      <th>2011-03-01</th>\n",
              "      <td>100.0</td>\n",
              "      <td>15.0</td>\n",
              "      <td>25.2</td>\n",
              "      <td>19.9</td>\n",
              "      <td>22.3</td>\n",
              "      <td>16.8</td>\n",
              "      <td>26.8</td>\n",
              "      <td>23.0</td>\n",
              "      <td>27.9</td>\n",
              "      <td>8.6</td>\n",
              "      <td>NaN</td>\n",
              "      <td>NaN</td>\n",
              "      <td>NaN</td>\n",
              "    </tr>\n",
              "    <tr>\n",
              "      <th>2011-04-01</th>\n",
              "      <td>100.0</td>\n",
              "      <td>21.3</td>\n",
              "      <td>20.3</td>\n",
              "      <td>21.0</td>\n",
              "      <td>19.7</td>\n",
              "      <td>22.7</td>\n",
              "      <td>21.7</td>\n",
              "      <td>26.0</td>\n",
              "      <td>7.3</td>\n",
              "      <td>NaN</td>\n",
              "      <td>NaN</td>\n",
              "      <td>NaN</td>\n",
              "      <td>NaN</td>\n",
              "    </tr>\n",
              "    <tr>\n",
              "      <th>2011-05-01</th>\n",
              "      <td>100.0</td>\n",
              "      <td>19.0</td>\n",
              "      <td>17.3</td>\n",
              "      <td>17.3</td>\n",
              "      <td>20.8</td>\n",
              "      <td>23.2</td>\n",
              "      <td>26.4</td>\n",
              "      <td>9.2</td>\n",
              "      <td>NaN</td>\n",
              "      <td>NaN</td>\n",
              "      <td>NaN</td>\n",
              "      <td>NaN</td>\n",
              "      <td>NaN</td>\n",
              "    </tr>\n",
              "    <tr>\n",
              "      <th>2011-06-01</th>\n",
              "      <td>100.0</td>\n",
              "      <td>17.4</td>\n",
              "      <td>15.7</td>\n",
              "      <td>26.4</td>\n",
              "      <td>23.1</td>\n",
              "      <td>33.5</td>\n",
              "      <td>9.5</td>\n",
              "      <td>NaN</td>\n",
              "      <td>NaN</td>\n",
              "      <td>NaN</td>\n",
              "      <td>NaN</td>\n",
              "      <td>NaN</td>\n",
              "      <td>NaN</td>\n",
              "    </tr>\n",
              "    <tr>\n",
              "      <th>2011-07-01</th>\n",
              "      <td>100.0</td>\n",
              "      <td>18.1</td>\n",
              "      <td>20.7</td>\n",
              "      <td>22.3</td>\n",
              "      <td>27.1</td>\n",
              "      <td>11.2</td>\n",
              "      <td>NaN</td>\n",
              "      <td>NaN</td>\n",
              "      <td>NaN</td>\n",
              "      <td>NaN</td>\n",
              "      <td>NaN</td>\n",
              "      <td>NaN</td>\n",
              "      <td>NaN</td>\n",
              "    </tr>\n",
              "    <tr>\n",
              "      <th>2011-08-01</th>\n",
              "      <td>100.0</td>\n",
              "      <td>20.7</td>\n",
              "      <td>24.9</td>\n",
              "      <td>24.3</td>\n",
              "      <td>12.4</td>\n",
              "      <td>NaN</td>\n",
              "      <td>NaN</td>\n",
              "      <td>NaN</td>\n",
              "      <td>NaN</td>\n",
              "      <td>NaN</td>\n",
              "      <td>NaN</td>\n",
              "      <td>NaN</td>\n",
              "      <td>NaN</td>\n",
              "    </tr>\n",
              "    <tr>\n",
              "      <th>2011-09-01</th>\n",
              "      <td>100.0</td>\n",
              "      <td>23.4</td>\n",
              "      <td>30.1</td>\n",
              "      <td>11.4</td>\n",
              "      <td>NaN</td>\n",
              "      <td>NaN</td>\n",
              "      <td>NaN</td>\n",
              "      <td>NaN</td>\n",
              "      <td>NaN</td>\n",
              "      <td>NaN</td>\n",
              "      <td>NaN</td>\n",
              "      <td>NaN</td>\n",
              "      <td>NaN</td>\n",
              "    </tr>\n",
              "    <tr>\n",
              "      <th>2011-10-01</th>\n",
              "      <td>100.0</td>\n",
              "      <td>24.0</td>\n",
              "      <td>11.5</td>\n",
              "      <td>NaN</td>\n",
              "      <td>NaN</td>\n",
              "      <td>NaN</td>\n",
              "      <td>NaN</td>\n",
              "      <td>NaN</td>\n",
              "      <td>NaN</td>\n",
              "      <td>NaN</td>\n",
              "      <td>NaN</td>\n",
              "      <td>NaN</td>\n",
              "      <td>NaN</td>\n",
              "    </tr>\n",
              "    <tr>\n",
              "      <th>2011-11-01</th>\n",
              "      <td>100.0</td>\n",
              "      <td>11.1</td>\n",
              "      <td>NaN</td>\n",
              "      <td>NaN</td>\n",
              "      <td>NaN</td>\n",
              "      <td>NaN</td>\n",
              "      <td>NaN</td>\n",
              "      <td>NaN</td>\n",
              "      <td>NaN</td>\n",
              "      <td>NaN</td>\n",
              "      <td>NaN</td>\n",
              "      <td>NaN</td>\n",
              "      <td>NaN</td>\n",
              "    </tr>\n",
              "    <tr>\n",
              "      <th>2011-12-01</th>\n",
              "      <td>100.0</td>\n",
              "      <td>NaN</td>\n",
              "      <td>NaN</td>\n",
              "      <td>NaN</td>\n",
              "      <td>NaN</td>\n",
              "      <td>NaN</td>\n",
              "      <td>NaN</td>\n",
              "      <td>NaN</td>\n",
              "      <td>NaN</td>\n",
              "      <td>NaN</td>\n",
              "      <td>NaN</td>\n",
              "      <td>NaN</td>\n",
              "      <td>NaN</td>\n",
              "    </tr>\n",
              "  </tbody>\n",
              "</table>\n",
              "</div>"
            ],
            "text/plain": [
              "CohortIndex     1     2     3     4     5   ...    9     10    11    12    13\n",
              "CohortMonth                                 ...                              \n",
              "2010-12-01   100.0  36.6  32.3  38.4  36.3  ...  35.4  39.5  37.4  50.3  26.6\n",
              "2011-01-01   100.0  22.1  26.7  23.1  32.2  ...  30.0  32.7  36.5  11.8   NaN\n",
              "2011-02-01   100.0  18.7  18.7  28.4  27.1  ...  24.7  30.5   6.8   NaN   NaN\n",
              "2011-03-01   100.0  15.0  25.2  19.9  22.3  ...  27.9   8.6   NaN   NaN   NaN\n",
              "2011-04-01   100.0  21.3  20.3  21.0  19.7  ...   7.3   NaN   NaN   NaN   NaN\n",
              "2011-05-01   100.0  19.0  17.3  17.3  20.8  ...   NaN   NaN   NaN   NaN   NaN\n",
              "2011-06-01   100.0  17.4  15.7  26.4  23.1  ...   NaN   NaN   NaN   NaN   NaN\n",
              "2011-07-01   100.0  18.1  20.7  22.3  27.1  ...   NaN   NaN   NaN   NaN   NaN\n",
              "2011-08-01   100.0  20.7  24.9  24.3  12.4  ...   NaN   NaN   NaN   NaN   NaN\n",
              "2011-09-01   100.0  23.4  30.1  11.4   NaN  ...   NaN   NaN   NaN   NaN   NaN\n",
              "2011-10-01   100.0  24.0  11.5   NaN   NaN  ...   NaN   NaN   NaN   NaN   NaN\n",
              "2011-11-01   100.0  11.1   NaN   NaN   NaN  ...   NaN   NaN   NaN   NaN   NaN\n",
              "2011-12-01   100.0   NaN   NaN   NaN   NaN  ...   NaN   NaN   NaN   NaN   NaN\n",
              "\n",
              "[13 rows x 13 columns]"
            ]
          },
          "metadata": {
            "tags": []
          },
          "execution_count": 24
        }
      ]
    },
    {
      "cell_type": "code",
      "metadata": {
        "id": "qh-Y81kmjAwU",
        "outputId": "4d286d99-dee5-4f3c-f9d3-f354e77b5f3b",
        "colab": {
          "base_uri": "https://localhost:8080/",
          "height": 567
        }
      },
      "source": [
        "plt.figure(figsize = (11,9))\n",
        "plt.title('Cohort Analysis - Retention Rate')\n",
        "sns.heatmap(data = retention, \n",
        "            annot = True, \n",
        "            fmt = '.0%', \n",
        "            vmin = 0.0,\n",
        "            vmax = 0.5,\n",
        "            cmap = \"BuPu_r\")\n",
        "plt.show()"
      ],
      "execution_count": 25,
      "outputs": [
        {
          "output_type": "display_data",
          "data": {
            "image/png": "[encoded data removed]",
            "text/plain": [
              "<Figure size 792x648 with 2 Axes>"
            ]
          },
          "metadata": {
            "tags": [],
            "needs_background": "light"
          }
        }
      ]
    },
    {
      "cell_type": "markdown",
      "metadata": {
        "id": "RbmalYK8Cv5O"
      },
      "source": [
        "#  Visualize the retention rate with Seaborn heatmap to make the result more understandable."
      ]
    },
    {
      "cell_type": "markdown",
      "metadata": {
        "id": "HPUGz27bDzGV"
      },
      "source": [
        "# From the graph\n",
        "- 2010-12 cohort is the strongest\n",
        "-  on 2011/11 some strategies might be implemented to increase the return users.\n",
        "-  About 50% of user from 2010/12 cohort return on 2011/11. Marketing analysts or product analysts might further investigate if some campaigns or feature changes that lead to the higher retention.\n",
        "- Overall there is not a good retention for the users (the percentage of customers going from month to month are quite low)\n",
        "\n"
      ]
    },
    {
      "cell_type": "markdown",
      "metadata": {
        "id": "gIcaveuuEFyC"
      },
      "source": [
        "# Create the 2nd Cohort: Average Quantity Sold\n",
        "- see how the purchase quantity changes along with months"
      ]
    },
    {
      "cell_type": "code",
      "metadata": {
        "id": "ylUdcKF4EZrm",
        "outputId": "d1ca68d7-ccc1-44ff-ade8-4621ccac91b9",
        "colab": {
          "base_uri": "https://localhost:8080/",
          "height": 483
        }
      },
      "source": [
        "cohort_data2 = df1.groupby(['CohortMonth', 'CohortIndex'])['Quantity'].mean().reset_index()\n",
        "average_quantity  = cohort_data2.pivot_table(index = 'CohortMonth',\n",
        "                                            columns = 'CohortIndex',\n",
        "                                       values = 'Quantity').round(1)\n",
        "average_quantity"
      ],
      "execution_count": 26,
      "outputs": [
        {
          "output_type": "execute_result",
          "data": {
            "text/html": [
              "<div>\n",
              "<style scoped>\n",
              "    .dataframe tbody tr th:only-of-type {\n",
              "        vertical-align: middle;\n",
              "    }\n",
              "\n",
              "    .dataframe tbody tr th {\n",
              "        vertical-align: top;\n",
              "    }\n",
              "\n",
              "    .dataframe thead th {\n",
              "        text-align: right;\n",
              "    }\n",
              "</style>\n",
              "<table border=\"1\" class=\"dataframe\">\n",
              "  <thead>\n",
              "    <tr style=\"text-align: right;\">\n",
              "      <th>CohortIndex</th>\n",
              "      <th>1</th>\n",
              "      <th>2</th>\n",
              "      <th>3</th>\n",
              "      <th>4</th>\n",
              "      <th>5</th>\n",
              "      <th>6</th>\n",
              "      <th>7</th>\n",
              "      <th>8</th>\n",
              "      <th>9</th>\n",
              "      <th>10</th>\n",
              "      <th>11</th>\n",
              "      <th>12</th>\n",
              "      <th>13</th>\n",
              "    </tr>\n",
              "    <tr>\n",
              "      <th>CohortMonth</th>\n",
              "      <th></th>\n",
              "      <th></th>\n",
              "      <th></th>\n",
              "      <th></th>\n",
              "      <th></th>\n",
              "      <th></th>\n",
              "      <th></th>\n",
              "      <th></th>\n",
              "      <th></th>\n",
              "      <th></th>\n",
              "      <th></th>\n",
              "      <th></th>\n",
              "      <th></th>\n",
              "    </tr>\n",
              "  </thead>\n",
              "  <tbody>\n",
              "    <tr>\n",
              "      <th>2010-12-01</th>\n",
              "      <td>12.1</td>\n",
              "      <td>15.7</td>\n",
              "      <td>15.7</td>\n",
              "      <td>15.9</td>\n",
              "      <td>13.6</td>\n",
              "      <td>14.9</td>\n",
              "      <td>16.1</td>\n",
              "      <td>15.6</td>\n",
              "      <td>18.2</td>\n",
              "      <td>17.7</td>\n",
              "      <td>19.0</td>\n",
              "      <td>13.6</td>\n",
              "      <td>15.4</td>\n",
              "    </tr>\n",
              "    <tr>\n",
              "      <th>2011-01-01</th>\n",
              "      <td>10.6</td>\n",
              "      <td>13.5</td>\n",
              "      <td>12.7</td>\n",
              "      <td>15.3</td>\n",
              "      <td>12.8</td>\n",
              "      <td>15.4</td>\n",
              "      <td>15.0</td>\n",
              "      <td>15.0</td>\n",
              "      <td>11.6</td>\n",
              "      <td>10.6</td>\n",
              "      <td>9.6</td>\n",
              "      <td>10.2</td>\n",
              "      <td>NaN</td>\n",
              "    </tr>\n",
              "    <tr>\n",
              "      <th>2011-02-01</th>\n",
              "      <td>11.2</td>\n",
              "      <td>13.7</td>\n",
              "      <td>19.0</td>\n",
              "      <td>12.0</td>\n",
              "      <td>12.3</td>\n",
              "      <td>12.3</td>\n",
              "      <td>13.6</td>\n",
              "      <td>13.4</td>\n",
              "      <td>11.0</td>\n",
              "      <td>12.4</td>\n",
              "      <td>13.4</td>\n",
              "      <td>NaN</td>\n",
              "      <td>NaN</td>\n",
              "    </tr>\n",
              "    <tr>\n",
              "      <th>2011-03-01</th>\n",
              "      <td>10.0</td>\n",
              "      <td>11.7</td>\n",
              "      <td>13.3</td>\n",
              "      <td>10.1</td>\n",
              "      <td>13.8</td>\n",
              "      <td>13.0</td>\n",
              "      <td>13.5</td>\n",
              "      <td>13.9</td>\n",
              "      <td>11.3</td>\n",
              "      <td>9.7</td>\n",
              "      <td>NaN</td>\n",
              "      <td>NaN</td>\n",
              "      <td>NaN</td>\n",
              "    </tr>\n",
              "    <tr>\n",
              "      <th>2011-04-01</th>\n",
              "      <td>10.0</td>\n",
              "      <td>10.4</td>\n",
              "      <td>9.8</td>\n",
              "      <td>11.9</td>\n",
              "      <td>12.0</td>\n",
              "      <td>8.7</td>\n",
              "      <td>10.0</td>\n",
              "      <td>9.7</td>\n",
              "      <td>7.6</td>\n",
              "      <td>NaN</td>\n",
              "      <td>NaN</td>\n",
              "      <td>NaN</td>\n",
              "      <td>NaN</td>\n",
              "    </tr>\n",
              "    <tr>\n",
              "      <th>2011-05-01</th>\n",
              "      <td>11.5</td>\n",
              "      <td>9.7</td>\n",
              "      <td>14.2</td>\n",
              "      <td>12.8</td>\n",
              "      <td>11.2</td>\n",
              "      <td>8.8</td>\n",
              "      <td>10.8</td>\n",
              "      <td>7.8</td>\n",
              "      <td>NaN</td>\n",
              "      <td>NaN</td>\n",
              "      <td>NaN</td>\n",
              "      <td>NaN</td>\n",
              "      <td>NaN</td>\n",
              "    </tr>\n",
              "    <tr>\n",
              "      <th>2011-06-01</th>\n",
              "      <td>10.7</td>\n",
              "      <td>14.7</td>\n",
              "      <td>10.9</td>\n",
              "      <td>13.7</td>\n",
              "      <td>10.7</td>\n",
              "      <td>10.0</td>\n",
              "      <td>9.5</td>\n",
              "      <td>NaN</td>\n",
              "      <td>NaN</td>\n",
              "      <td>NaN</td>\n",
              "      <td>NaN</td>\n",
              "      <td>NaN</td>\n",
              "      <td>NaN</td>\n",
              "    </tr>\n",
              "    <tr>\n",
              "      <th>2011-07-01</th>\n",
              "      <td>9.9</td>\n",
              "      <td>13.8</td>\n",
              "      <td>7.4</td>\n",
              "      <td>8.2</td>\n",
              "      <td>6.2</td>\n",
              "      <td>7.2</td>\n",
              "      <td>NaN</td>\n",
              "      <td>NaN</td>\n",
              "      <td>NaN</td>\n",
              "      <td>NaN</td>\n",
              "      <td>NaN</td>\n",
              "      <td>NaN</td>\n",
              "      <td>NaN</td>\n",
              "    </tr>\n",
              "    <tr>\n",
              "      <th>2011-08-01</th>\n",
              "      <td>10.1</td>\n",
              "      <td>6.2</td>\n",
              "      <td>5.4</td>\n",
              "      <td>6.2</td>\n",
              "      <td>7.1</td>\n",
              "      <td>NaN</td>\n",
              "      <td>NaN</td>\n",
              "      <td>NaN</td>\n",
              "      <td>NaN</td>\n",
              "      <td>NaN</td>\n",
              "      <td>NaN</td>\n",
              "      <td>NaN</td>\n",
              "      <td>NaN</td>\n",
              "    </tr>\n",
              "    <tr>\n",
              "      <th>2011-09-01</th>\n",
              "      <td>12.1</td>\n",
              "      <td>6.3</td>\n",
              "      <td>8.1</td>\n",
              "      <td>9.0</td>\n",
              "      <td>NaN</td>\n",
              "      <td>NaN</td>\n",
              "      <td>NaN</td>\n",
              "      <td>NaN</td>\n",
              "      <td>NaN</td>\n",
              "      <td>NaN</td>\n",
              "      <td>NaN</td>\n",
              "      <td>NaN</td>\n",
              "      <td>NaN</td>\n",
              "    </tr>\n",
              "    <tr>\n",
              "      <th>2011-10-01</th>\n",
              "      <td>9.0</td>\n",
              "      <td>7.3</td>\n",
              "      <td>8.5</td>\n",
              "      <td>NaN</td>\n",
              "      <td>NaN</td>\n",
              "      <td>NaN</td>\n",
              "      <td>NaN</td>\n",
              "      <td>NaN</td>\n",
              "      <td>NaN</td>\n",
              "      <td>NaN</td>\n",
              "      <td>NaN</td>\n",
              "      <td>NaN</td>\n",
              "      <td>NaN</td>\n",
              "    </tr>\n",
              "    <tr>\n",
              "      <th>2011-11-01</th>\n",
              "      <td>7.9</td>\n",
              "      <td>10.0</td>\n",
              "      <td>NaN</td>\n",
              "      <td>NaN</td>\n",
              "      <td>NaN</td>\n",
              "      <td>NaN</td>\n",
              "      <td>NaN</td>\n",
              "      <td>NaN</td>\n",
              "      <td>NaN</td>\n",
              "      <td>NaN</td>\n",
              "      <td>NaN</td>\n",
              "      <td>NaN</td>\n",
              "      <td>NaN</td>\n",
              "    </tr>\n",
              "    <tr>\n",
              "      <th>2011-12-01</th>\n",
              "      <td>15.2</td>\n",
              "      <td>NaN</td>\n",
              "      <td>NaN</td>\n",
              "      <td>NaN</td>\n",
              "      <td>NaN</td>\n",
              "      <td>NaN</td>\n",
              "      <td>NaN</td>\n",
              "      <td>NaN</td>\n",
              "      <td>NaN</td>\n",
              "      <td>NaN</td>\n",
              "      <td>NaN</td>\n",
              "      <td>NaN</td>\n",
              "      <td>NaN</td>\n",
              "    </tr>\n",
              "  </tbody>\n",
              "</table>\n",
              "</div>"
            ],
            "text/plain": [
              "CohortIndex    1     2     3     4     5   ...    9     10    11    12    13\n",
              "CohortMonth                                ...                              \n",
              "2010-12-01   12.1  15.7  15.7  15.9  13.6  ...  18.2  17.7  19.0  13.6  15.4\n",
              "2011-01-01   10.6  13.5  12.7  15.3  12.8  ...  11.6  10.6   9.6  10.2   NaN\n",
              "2011-02-01   11.2  13.7  19.0  12.0  12.3  ...  11.0  12.4  13.4   NaN   NaN\n",
              "2011-03-01   10.0  11.7  13.3  10.1  13.8  ...  11.3   9.7   NaN   NaN   NaN\n",
              "2011-04-01   10.0  10.4   9.8  11.9  12.0  ...   7.6   NaN   NaN   NaN   NaN\n",
              "2011-05-01   11.5   9.7  14.2  12.8  11.2  ...   NaN   NaN   NaN   NaN   NaN\n",
              "2011-06-01   10.7  14.7  10.9  13.7  10.7  ...   NaN   NaN   NaN   NaN   NaN\n",
              "2011-07-01    9.9  13.8   7.4   8.2   6.2  ...   NaN   NaN   NaN   NaN   NaN\n",
              "2011-08-01   10.1   6.2   5.4   6.2   7.1  ...   NaN   NaN   NaN   NaN   NaN\n",
              "2011-09-01   12.1   6.3   8.1   9.0   NaN  ...   NaN   NaN   NaN   NaN   NaN\n",
              "2011-10-01    9.0   7.3   8.5   NaN   NaN  ...   NaN   NaN   NaN   NaN   NaN\n",
              "2011-11-01    7.9  10.0   NaN   NaN   NaN  ...   NaN   NaN   NaN   NaN   NaN\n",
              "2011-12-01   15.2   NaN   NaN   NaN   NaN  ...   NaN   NaN   NaN   NaN   NaN\n",
              "\n",
              "[13 rows x 13 columns]"
            ]
          },
          "metadata": {
            "tags": []
          },
          "execution_count": 26
        }
      ]
    },
    {
      "cell_type": "code",
      "metadata": {
        "id": "niWN9wQMEgfU",
        "outputId": "19d80dc6-a909-42b9-a99e-12a7dbf4364b",
        "colab": {
          "base_uri": "https://localhost:8080/",
          "height": 567
        }
      },
      "source": [
        "# visualization\n",
        "plt.figure(figsize = (11,9))\n",
        "plt.title('Cohort Analysis - Average Quantity')\n",
        "sns.heatmap(data = average_quantity, \n",
        "            annot = True, \n",
        "            cmap = \"RdYlBu\")\n",
        "\n",
        "plt.show()"
      ],
      "execution_count": 27,
      "outputs": [
        {
          "output_type": "display_data",
          "data": {
            "image/png": "[encoded data removed]",
            "text/plain": [
              "<Figure size 792x648 with 2 Axes>"
            ]
          },
          "metadata": {
            "tags": [],
            "needs_background": "light"
          }
        }
      ]
    },
    {
      "cell_type": "markdown",
      "metadata": {
        "id": "OrCMuat8E03i"
      },
      "source": [
        "# It is observed that\n",
        "- within the recent cohort/month, the average quantity on the website was facing a decline. It is a warning signal that users stop buying merchandise on the website. The reason needs further investigation."
      ]
    },
    {
      "cell_type": "markdown",
      "metadata": {
        "id": "wz5vZ8eQE-Qn"
      },
      "source": [
        "# Create the 3rd Cohort: Average Sales"
      ]
    },
    {
      "cell_type": "code",
      "metadata": {
        "id": "TZ9-cub7FGTw",
        "outputId": "fe22041b-bee3-48b0-a4b6-a594096bc95d",
        "colab": {
          "base_uri": "https://localhost:8080/",
          "height": 483
        }
      },
      "source": [
        "df1['TotalSale'] = df1['Quantity'] * df1['UnitPrice']\n",
        "cohort_data3 = df1.groupby(['CohortMonth', 'CohortIndex'])['TotalSale'].mean().reset_index()\n",
        "average_sales  = cohort_data3.pivot_table(index = 'CohortMonth',\n",
        "                                           columns = 'CohortIndex',\n",
        "                                      values = 'TotalSale').round(1)\n",
        "average_sales"
      ],
      "execution_count": 28,
      "outputs": [
        {
          "output_type": "execute_result",
          "data": {
            "text/html": [
              "<div>\n",
              "<style scoped>\n",
              "    .dataframe tbody tr th:only-of-type {\n",
              "        vertical-align: middle;\n",
              "    }\n",
              "\n",
              "    .dataframe tbody tr th {\n",
              "        vertical-align: top;\n",
              "    }\n",
              "\n",
              "    .dataframe thead th {\n",
              "        text-align: right;\n",
              "    }\n",
              "</style>\n",
              "<table border=\"1\" class=\"dataframe\">\n",
              "  <thead>\n",
              "    <tr style=\"text-align: right;\">\n",
              "      <th>CohortIndex</th>\n",
              "      <th>1</th>\n",
              "      <th>2</th>\n",
              "      <th>3</th>\n",
              "      <th>4</th>\n",
              "      <th>5</th>\n",
              "      <th>6</th>\n",
              "      <th>7</th>\n",
              "      <th>8</th>\n",
              "      <th>9</th>\n",
              "      <th>10</th>\n",
              "      <th>11</th>\n",
              "      <th>12</th>\n",
              "      <th>13</th>\n",
              "    </tr>\n",
              "    <tr>\n",
              "      <th>CohortMonth</th>\n",
              "      <th></th>\n",
              "      <th></th>\n",
              "      <th></th>\n",
              "      <th></th>\n",
              "      <th></th>\n",
              "      <th></th>\n",
              "      <th></th>\n",
              "      <th></th>\n",
              "      <th></th>\n",
              "      <th></th>\n",
              "      <th></th>\n",
              "      <th></th>\n",
              "      <th></th>\n",
              "    </tr>\n",
              "  </thead>\n",
              "  <tbody>\n",
              "    <tr>\n",
              "      <th>2010-12-01</th>\n",
              "      <td>22.2</td>\n",
              "      <td>27.3</td>\n",
              "      <td>26.9</td>\n",
              "      <td>27.2</td>\n",
              "      <td>21.2</td>\n",
              "      <td>27.5</td>\n",
              "      <td>28.3</td>\n",
              "      <td>27.4</td>\n",
              "      <td>29.3</td>\n",
              "      <td>33.5</td>\n",
              "      <td>34.0</td>\n",
              "      <td>23.6</td>\n",
              "      <td>25.8</td>\n",
              "    </tr>\n",
              "    <tr>\n",
              "      <th>2011-01-01</th>\n",
              "      <td>19.8</td>\n",
              "      <td>25.1</td>\n",
              "      <td>21.0</td>\n",
              "      <td>31.2</td>\n",
              "      <td>22.5</td>\n",
              "      <td>26.3</td>\n",
              "      <td>25.2</td>\n",
              "      <td>25.5</td>\n",
              "      <td>19.1</td>\n",
              "      <td>22.3</td>\n",
              "      <td>19.7</td>\n",
              "      <td>19.8</td>\n",
              "      <td>NaN</td>\n",
              "    </tr>\n",
              "    <tr>\n",
              "      <th>2011-02-01</th>\n",
              "      <td>17.9</td>\n",
              "      <td>20.8</td>\n",
              "      <td>21.5</td>\n",
              "      <td>19.4</td>\n",
              "      <td>17.7</td>\n",
              "      <td>17.0</td>\n",
              "      <td>22.2</td>\n",
              "      <td>22.9</td>\n",
              "      <td>18.8</td>\n",
              "      <td>22.2</td>\n",
              "      <td>23.5</td>\n",
              "      <td>NaN</td>\n",
              "      <td>NaN</td>\n",
              "    </tr>\n",
              "    <tr>\n",
              "      <th>2011-03-01</th>\n",
              "      <td>17.6</td>\n",
              "      <td>21.1</td>\n",
              "      <td>22.7</td>\n",
              "      <td>18.0</td>\n",
              "      <td>21.1</td>\n",
              "      <td>19.0</td>\n",
              "      <td>22.0</td>\n",
              "      <td>20.0</td>\n",
              "      <td>16.8</td>\n",
              "      <td>13.2</td>\n",
              "      <td>NaN</td>\n",
              "      <td>NaN</td>\n",
              "      <td>NaN</td>\n",
              "    </tr>\n",
              "    <tr>\n",
              "      <th>2011-04-01</th>\n",
              "      <td>17.0</td>\n",
              "      <td>21.0</td>\n",
              "      <td>19.5</td>\n",
              "      <td>18.7</td>\n",
              "      <td>19.5</td>\n",
              "      <td>15.0</td>\n",
              "      <td>15.3</td>\n",
              "      <td>16.0</td>\n",
              "      <td>12.3</td>\n",
              "      <td>NaN</td>\n",
              "      <td>NaN</td>\n",
              "      <td>NaN</td>\n",
              "      <td>NaN</td>\n",
              "    </tr>\n",
              "    <tr>\n",
              "      <th>2011-05-01</th>\n",
              "      <td>20.5</td>\n",
              "      <td>17.3</td>\n",
              "      <td>22.2</td>\n",
              "      <td>20.9</td>\n",
              "      <td>18.6</td>\n",
              "      <td>14.1</td>\n",
              "      <td>17.0</td>\n",
              "      <td>14.0</td>\n",
              "      <td>NaN</td>\n",
              "      <td>NaN</td>\n",
              "      <td>NaN</td>\n",
              "      <td>NaN</td>\n",
              "      <td>NaN</td>\n",
              "    </tr>\n",
              "    <tr>\n",
              "      <th>2011-06-01</th>\n",
              "      <td>24.0</td>\n",
              "      <td>16.3</td>\n",
              "      <td>19.9</td>\n",
              "      <td>20.4</td>\n",
              "      <td>15.3</td>\n",
              "      <td>16.7</td>\n",
              "      <td>13.2</td>\n",
              "      <td>NaN</td>\n",
              "      <td>NaN</td>\n",
              "      <td>NaN</td>\n",
              "      <td>NaN</td>\n",
              "      <td>NaN</td>\n",
              "      <td>NaN</td>\n",
              "    </tr>\n",
              "    <tr>\n",
              "      <th>2011-07-01</th>\n",
              "      <td>15.0</td>\n",
              "      <td>23.5</td>\n",
              "      <td>11.8</td>\n",
              "      <td>13.0</td>\n",
              "      <td>10.9</td>\n",
              "      <td>11.7</td>\n",
              "      <td>NaN</td>\n",
              "      <td>NaN</td>\n",
              "      <td>NaN</td>\n",
              "      <td>NaN</td>\n",
              "      <td>NaN</td>\n",
              "      <td>NaN</td>\n",
              "      <td>NaN</td>\n",
              "    </tr>\n",
              "    <tr>\n",
              "      <th>2011-08-01</th>\n",
              "      <td>16.5</td>\n",
              "      <td>13.2</td>\n",
              "      <td>12.5</td>\n",
              "      <td>15.9</td>\n",
              "      <td>17.0</td>\n",
              "      <td>NaN</td>\n",
              "      <td>NaN</td>\n",
              "      <td>NaN</td>\n",
              "      <td>NaN</td>\n",
              "      <td>NaN</td>\n",
              "      <td>NaN</td>\n",
              "      <td>NaN</td>\n",
              "      <td>NaN</td>\n",
              "    </tr>\n",
              "    <tr>\n",
              "      <th>2011-09-01</th>\n",
              "      <td>18.8</td>\n",
              "      <td>12.3</td>\n",
              "      <td>14.1</td>\n",
              "      <td>14.3</td>\n",
              "      <td>NaN</td>\n",
              "      <td>NaN</td>\n",
              "      <td>NaN</td>\n",
              "      <td>NaN</td>\n",
              "      <td>NaN</td>\n",
              "      <td>NaN</td>\n",
              "      <td>NaN</td>\n",
              "      <td>NaN</td>\n",
              "      <td>NaN</td>\n",
              "    </tr>\n",
              "    <tr>\n",
              "      <th>2011-10-01</th>\n",
              "      <td>15.1</td>\n",
              "      <td>11.3</td>\n",
              "      <td>14.5</td>\n",
              "      <td>NaN</td>\n",
              "      <td>NaN</td>\n",
              "      <td>NaN</td>\n",
              "      <td>NaN</td>\n",
              "      <td>NaN</td>\n",
              "      <td>NaN</td>\n",
              "      <td>NaN</td>\n",
              "      <td>NaN</td>\n",
              "      <td>NaN</td>\n",
              "      <td>NaN</td>\n",
              "    </tr>\n",
              "    <tr>\n",
              "      <th>2011-11-01</th>\n",
              "      <td>12.5</td>\n",
              "      <td>13.8</td>\n",
              "      <td>NaN</td>\n",
              "      <td>NaN</td>\n",
              "      <td>NaN</td>\n",
              "      <td>NaN</td>\n",
              "      <td>NaN</td>\n",
              "      <td>NaN</td>\n",
              "      <td>NaN</td>\n",
              "      <td>NaN</td>\n",
              "      <td>NaN</td>\n",
              "      <td>NaN</td>\n",
              "      <td>NaN</td>\n",
              "    </tr>\n",
              "    <tr>\n",
              "      <th>2011-12-01</th>\n",
              "      <td>28.1</td>\n",
              "      <td>NaN</td>\n",
              "      <td>NaN</td>\n",
              "      <td>NaN</td>\n",
              "      <td>NaN</td>\n",
              "      <td>NaN</td>\n",
              "      <td>NaN</td>\n",
              "      <td>NaN</td>\n",
              "      <td>NaN</td>\n",
              "      <td>NaN</td>\n",
              "      <td>NaN</td>\n",
              "      <td>NaN</td>\n",
              "      <td>NaN</td>\n",
              "    </tr>\n",
              "  </tbody>\n",
              "</table>\n",
              "</div>"
            ],
            "text/plain": [
              "CohortIndex    1     2     3     4     5   ...    9     10    11    12    13\n",
              "CohortMonth                                ...                              \n",
              "2010-12-01   22.2  27.3  26.9  27.2  21.2  ...  29.3  33.5  34.0  23.6  25.8\n",
              "2011-01-01   19.8  25.1  21.0  31.2  22.5  ...  19.1  22.3  19.7  19.8   NaN\n",
              "2011-02-01   17.9  20.8  21.5  19.4  17.7  ...  18.8  22.2  23.5   NaN   NaN\n",
              "2011-03-01   17.6  21.1  22.7  18.0  21.1  ...  16.8  13.2   NaN   NaN   NaN\n",
              "2011-04-01   17.0  21.0  19.5  18.7  19.5  ...  12.3   NaN   NaN   NaN   NaN\n",
              "2011-05-01   20.5  17.3  22.2  20.9  18.6  ...   NaN   NaN   NaN   NaN   NaN\n",
              "2011-06-01   24.0  16.3  19.9  20.4  15.3  ...   NaN   NaN   NaN   NaN   NaN\n",
              "2011-07-01   15.0  23.5  11.8  13.0  10.9  ...   NaN   NaN   NaN   NaN   NaN\n",
              "2011-08-01   16.5  13.2  12.5  15.9  17.0  ...   NaN   NaN   NaN   NaN   NaN\n",
              "2011-09-01   18.8  12.3  14.1  14.3   NaN  ...   NaN   NaN   NaN   NaN   NaN\n",
              "2011-10-01   15.1  11.3  14.5   NaN   NaN  ...   NaN   NaN   NaN   NaN   NaN\n",
              "2011-11-01   12.5  13.8   NaN   NaN   NaN  ...   NaN   NaN   NaN   NaN   NaN\n",
              "2011-12-01   28.1   NaN   NaN   NaN   NaN  ...   NaN   NaN   NaN   NaN   NaN\n",
              "\n",
              "[13 rows x 13 columns]"
            ]
          },
          "metadata": {
            "tags": []
          },
          "execution_count": 28
        }
      ]
    },
    {
      "cell_type": "code",
      "metadata": {
        "id": "OztONiP_FLjO",
        "outputId": "d1da72c2-4a93-4c93-b3a3-ccfde7248e65",
        "colab": {
          "base_uri": "https://localhost:8080/",
          "height": 567
        }
      },
      "source": [
        "plt.figure(figsize = (11,9))\n",
        "plt.title('Cohort Analysis - Average Sales')\n",
        "sns.heatmap(data = average_sales, \n",
        "            annot = True, \n",
        "            cmap = \"YlOrBr\")\n",
        "plt.show()"
      ],
      "execution_count": 29,
      "outputs": [
        {
          "output_type": "display_data",
          "data": {
            "image/png": "[encoded data removed]",
            "text/plain": [
              "<Figure size 792x648 with 2 Axes>"
            ]
          },
          "metadata": {
            "tags": [],
            "needs_background": "light"
          }
        }
      ]
    },
    {
      "cell_type": "markdown",
      "metadata": {
        "id": "MN4e3pcuFWbU"
      },
      "source": [
        "# The situation for average sales is parallel with the average quantity, which the retailer faces a significant decline in recent months. How to sustain the buying behaviors will be the issue with thinking for the product/marketing team."
      ]
    }
  ]
}